{
 "cells": [
  {
   "cell_type": "markdown",
   "metadata": {},
   "source": [
    "# Suicide Rates, case study.\n",
    "## Problem Statement\n",
    "### Context\n",
    "Close to 800 000 people die due to suicide every year, which is one person every 40 seconds. Suicide is a global phenomenon and occurs throughout the lifespan. Effective and evidence-based interventions can be implemented at population, sub-population, and individual levels to prevent suicide and suicide attempts. There are indications that for each adult who died by suicide there may have been more than 20 others attempting suicide.\n",
    "\n",
    "### Objective\n",
    "The objective of this case study is to find the patterns for increased suicide rates among different cohorts globally, across the socioeconomic spectrum by using exploratory data analysis.\n",
    "\n",
    "### Data Dictionary\n",
    "We will be using the dataset about suicide rates from 1985 to 2016. This dataset has the following attributes:"
   ]
  },
  {
   "cell_type": "markdown",
   "metadata": {},
   "source": [
    "- **country**: Country\n",
    "- **year**: Year\n",
    "- **sex**: Sex (male or female)\n",
    "- **age**: Suicide age range, ages divided into six categories\n",
    "- **suicides_no**: number of suicides\n",
    "- **population**: population of that sex, in that age range, in that country, and in that year\n",
    "- **suicides/100k pop**: Number of suicides per 100k population\n",
    "- **gdp_for_year($)**: GDP of the country in that year in dollars\n",
    "- **gdp_per_capita($)**: Ratio of the country’s GDP and its population\n",
    "- **generation**: Generation of the suicides in question, being possible 6 different categories"
   ]
  },
  {
   "cell_type": "markdown",
   "metadata": {},
   "source": [
    "### Questions to explore\n",
    "1. Is the suicide rate more prominent in some age categories than others?\n",
    "2. Which countries have the most and the least number of suicides?\n",
    "3. What is the effect of the population on suicide rates?\n",
    "4. What is the effect of the GDP of a country on suicide rates?\n",
    "5. What is the trend of suicide rates across all the years?\n",
    "6. Is there a difference between the suicide rates of men and women?\n",
    "***"
   ]
  },
  {
   "cell_type": "markdown",
   "metadata": {},
   "source": [
    "### 1. Is the suicide rate more prominent in some age categories than others?"
   ]
  },
  {
   "cell_type": "markdown",
   "metadata": {},
   "source": [
    "### 2. Which countries have the most and the least number of suicides?"
   ]
  },
  {
   "cell_type": "markdown",
   "metadata": {},
   "source": [
    "### 3. What is the effect of the population on suicide rates?"
   ]
  },
  {
   "cell_type": "markdown",
   "metadata": {},
   "source": [
    "### 4. What is the effect of the GDP of a country on suicide rates?"
   ]
  },
  {
   "cell_type": "markdown",
   "metadata": {},
   "source": [
    "### 5. What is the trend of suicide rates across all the years?"
   ]
  },
  {
   "cell_type": "markdown",
   "metadata": {},
   "source": [
    "### 6. Is there a difference between the suicide rates of men and women?"
   ]
  }
 ],
 "metadata": {
  "interpreter": {
   "hash": "916dbcbb3f70747c44a77c7bcd40155683ae19c65e1c03b4aa3499c5328201f1"
  },
  "kernelspec": {
   "display_name": "Python 3.8.10 64-bit",
   "language": "python",
   "name": "python3"
  },
  "language_info": {
   "codemirror_mode": {
    "name": "ipython",
    "version": 3
   },
   "file_extension": ".py",
   "mimetype": "text/x-python",
   "name": "python",
   "nbconvert_exporter": "python",
   "pygments_lexer": "ipython3",
   "version": "3.8.10"
  },
  "orig_nbformat": 4
 },
 "nbformat": 4,
 "nbformat_minor": 2
}
